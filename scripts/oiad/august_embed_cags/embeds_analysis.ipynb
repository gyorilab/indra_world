{
 "cells": [
  {
   "cell_type": "code",
   "execution_count": 1,
   "metadata": {},
   "outputs": [],
   "source": [
    "import glob\n",
    "import json\n",
    "from indra_world.ontology import load_world_ontology"
   ]
  },
  {
   "cell_type": "code",
   "execution_count": 2,
   "metadata": {},
   "outputs": [
    {
     "name": "stderr",
     "output_type": "stream",
     "text": [
      "INFO: [2021-09-21 16:40:57] indra_world.ontology.ontology - Initializing world ontology from https://raw.githubusercontent.com/WorldModelers/Ontologies/3.0/CompositionalOntology_metadata.yml\n",
      "INFO: [2021-09-21 16:40:57] indra.ontology.ontology_graph - Building transitive closure for faster isa/partof lookups...\n",
      "INFO: [2021-09-21 16:40:57] indra_world.ontology.ontology - Ontology has 580 nodes\n",
      "INFO: [2021-09-21 16:40:57] indra_world.ontology.ontology - Initializing world ontology from https://raw.githubusercontent.com/WorldModelers/Ontologies/2.3/CompositionalOntology_metadata.yml\n",
      "INFO: [2021-09-21 16:40:58] indra.ontology.ontology_graph - Building transitive closure for faster isa/partof lookups...\n",
      "INFO: [2021-09-21 16:40:58] indra_world.ontology.ontology - Ontology has 534 nodes\n"
     ]
    }
   ],
   "source": [
    "new_onto_url = 'https://raw.githubusercontent.com/WorldModelers/Ontologies/'\\\n",
    "    '3.0/CompositionalOntology_metadata.yml'\n",
    "old_onto_url = 'https://raw.githubusercontent.com/WorldModelers/Ontologies/'\\\n",
    "    '2.3/CompositionalOntology_metadata.yml'\n",
    "new_onto = load_world_ontology(new_onto_url)\n",
    "new_onto.initialize()\n",
    "old_onto = load_world_ontology(old_onto_url)\n",
    "old_onto.initialize()\n",
    "new_onto_terms = {new_onto.get_id(node) for node in new_onto.nodes()}\n",
    "old_onto_terms = {old_onto.get_id(node) for node in old_onto.nodes()}"
   ]
  },
  {
   "cell_type": "code",
   "execution_count": 3,
   "metadata": {},
   "outputs": [
    {
     "name": "stdout",
     "output_type": "stream",
     "text": [
      "Number of old ontology terms: 534\n",
      "Number of new ontology terms: 580\n"
     ]
    }
   ],
   "source": [
    "print(f'Number of old ontology terms: {len(old_onto_terms)}')\n",
    "print(f'Number of new ontology terms: {len(new_onto_terms)}')"
   ]
  },
  {
   "cell_type": "code",
   "execution_count": 4,
   "metadata": {},
   "outputs": [
    {
     "name": "stdout",
     "output_type": "stream",
     "text": [
      "wm/concept/agriculture/disease/poultry_disease\n",
      "wm/concept/agriculture/poultry/backyard_poultry_farming\n",
      "wm/concept/agriculture/poultry/day_old_chicks\n",
      "wm/concept/agriculture/poultry/egg\n",
      "wm/concept/agriculture/poultry/flock_size\n",
      "wm/concept/civil_society\n",
      "wm/concept/economy/unemployment\n",
      "wm/concept/entity/border\n",
      "wm/concept/entity/drone\n",
      "wm/concept/entity/locations/neighboring_country\n",
      "wm/concept/entity/military_exercise\n",
      "wm/concept/entity/people/child_or_youth\n",
      "wm/concept/entity/people/infant\n",
      "wm/concept/entity/people/maternal\n",
      "wm/concept/entity/people/migration/displaced_person\n",
      "wm/concept/entity/people/migration/refugee\n",
      "wm/concept/entity/people/militia\n",
      "wm/concept/entity/people/young_adults\n",
      "wm/concept/goods/agricultural/compound_feed\n",
      "wm/concept/goods/agricultural/feed\n",
      "wm/concept/health/protein_nutrient\n",
      "wm/concept/inequality\n",
      "wm/concept/information/intelligence_information\n",
      "wm/concept/information/internet\n",
      "wm/concept/information/social_media\n",
      "wm/concept/infrastructure/voting_infrastructure\n",
      "wm/concept/population_demographics/clan\n",
      "wm/concept/social_structure_or_relationship\n",
      "wm/process/aid_or_assistance\n",
      "wm/process/assessment\n",
      "wm/process/collaboration\n",
      "wm/process/collecting\n",
      "wm/process/combining\n",
      "wm/process/communication\n",
      "wm/process/communication/ask\n",
      "wm/process/communication/ask/poll\n",
      "wm/process/communication/ask/question\n",
      "wm/process/communication/campaign\n",
      "wm/process/communication/commitment\n",
      "wm/process/communication/debate\n",
      "wm/process/communication/deception\n",
      "wm/process/communication/description\n",
      "wm/process/communication/endorsement\n",
      "wm/process/communication/highlighting\n",
      "wm/process/communication/informing\n",
      "wm/process/communication/mediation\n",
      "wm/process/communication/meeting\n",
      "wm/process/communication/negotiation\n",
      "wm/process/communication/opposition\n",
      "wm/process/communication/suggestion\n",
      "wm/process/communication/warning\n",
      "wm/process/conflict/abduction\n",
      "wm/process/conflict/assassination\n",
      "wm/process/conflict/clan_conflict\n",
      "wm/process/conflict/enlist\n",
      "wm/process/conflict/insurgency\n",
      "wm/process/conflict/peacekeeping\n",
      "wm/process/conflict/protest_or_demonstration\n",
      "wm/process/conflict/tribal_conflict\n",
      "wm/process/construction\n",
      "wm/process/consumption\n",
      "wm/process/damage\n",
      "wm/process/decision\n",
      "wm/process/deployment\n",
      "wm/process/depreciation\n",
      "wm/process/destabilization\n",
      "wm/process/destruction\n",
      "wm/process/detection\n",
      "wm/process/development\n",
      "wm/process/disguise\n",
      "wm/process/enhancement\n",
      "wm/process/extraction\n",
      "wm/process/flow\n",
      "wm/process/foraging\n",
      "wm/process/grouping\n",
      "wm/process/hunting\n",
      "wm/process/imprisonment_or_detention\n",
      "wm/process/infestation\n",
      "wm/process/inhabiting_or_occupancy\n",
      "wm/process/investment\n",
      "wm/process/judicial/charge_or_prosecution\n",
      "wm/process/judicial/conviction_or_sentencing\n",
      "wm/process/legislation\n",
      "wm/process/legislation/regulation\n",
      "wm/process/legislation/subsidization\n",
      "wm/process/legislation/taxation\n",
      "wm/process/management\n",
      "wm/process/manipulation\n",
      "wm/process/medical/sanitization\n",
      "wm/process/mitigation\n",
      "wm/process/modification\n",
      "wm/process/motivation\n",
      "wm/process/observation\n",
      "wm/process/prediction\n",
      "wm/process/preparation\n",
      "wm/process/prevention\n",
      "wm/process/production\n",
      "wm/process/prohibition\n",
      "wm/process/provision\n",
      "wm/process/publication\n",
      "wm/process/reaction_or_response\n",
      "wm/process/relief\n",
      "wm/process/remediation\n",
      "wm/process/reproduction\n",
      "wm/process/securing\n",
      "wm/process/selection\n",
      "wm/process/sharing\n",
      "wm/process/stabilization\n",
      "wm/process/stalling\n",
      "wm/process/start\n",
      "wm/process/stay_or_remain\n",
      "wm/process/strengthening\n",
      "wm/process/surveilance\n",
      "wm/process/tabulation\n",
      "wm/process/training\n",
      "wm/process/training/agriculture_training\n",
      "wm/process/training/financial_training\n",
      "wm/process/training/humanitarian_training\n",
      "wm/process/training/humanitarian_training/emergency_preparedness_training\n",
      "wm/process/training/medical_training\n",
      "wm/process/training/training\n",
      "wm/process/transformation\n",
      "wm/process/transportation\n",
      "wm/process/transportation/commercial_transportation\n",
      "wm/process/transportation/personal_transportation\n",
      "wm/process/voting\n",
      "wm/process/weakening\n",
      "wm/property/civic\n",
      "wm/property/domestic\n",
      "wm/property/exotic_breeds\n",
      "wm/property/foreign\n",
      "wm/property/hybrid_breeds\n",
      "wm/property/quality\n",
      "wm/property/right_to_use\n",
      "wm/property/social\n",
      "wm/property/surplus\n"
     ]
    }
   ],
   "source": [
    "for term in sorted(new_onto_terms-old_onto_terms):\n",
    "    print(term)"
   ]
  },
  {
   "cell_type": "code",
   "execution_count": 5,
   "metadata": {},
   "outputs": [],
   "source": [
    "def get_grounding(concept):\n",
    "    if 'theme' not in concept:\n",
    "        return (concept['concept'], None, None, None)\n",
    "    parts = ['theme', 'theme_property', 'process', 'process_property']\n",
    "    return tuple(None if not concept[part] else concept[part] for part in parts)\n",
    "\n",
    "\n",
    "def get_all_groundings(stmts):\n",
    "    groundings = []\n",
    "    for stmt in stmts:\n",
    "        for concept in [stmt['obj'], stmt['subj']]:\n",
    "            if 'theme' not in concept:\n",
    "                continue\n",
    "            groundings.append(get_grounding(concept))\n",
    "    return groundings\n",
    "\n",
    "def get_grounding_configs(unique_gr):\n",
    "    grounding_configs = []\n",
    "    for gr in unique_gr:\n",
    "        parts = []\n",
    "        for val, part in zip(gr, ['theme', 'property', 'process', 'process_property']):\n",
    "            if val is not None:\n",
    "                parts.append(part)\n",
    "        grounding_configs.append('_'.join(parts))\n",
    "    return grounding_configs\n",
    "\n",
    "def get_all_grounding_terms(unique_gr):\n",
    "    all_terms = set()\n",
    "    for gr in unique_gr:\n",
    "        for part in gr:\n",
    "            if part:\n",
    "                all_terms.add(part)\n",
    "    return all_terms"
   ]
  },
  {
   "cell_type": "markdown",
   "metadata": {},
   "source": [
    "# ATA"
   ]
  },
  {
   "cell_type": "code",
   "execution_count": 6,
   "metadata": {},
   "outputs": [],
   "source": [
    "fnames = glob.glob('ATA/*.json')\n",
    "all_groundings_ata = []\n",
    "for fname in fnames:\n",
    "    with open(fname, 'r') as fh:\n",
    "        jj = json.load(fh)\n",
    "        all_groundings_ata += get_all_groundings(jj['statements'])"
   ]
  },
  {
   "cell_type": "code",
   "execution_count": 7,
   "metadata": {},
   "outputs": [
    {
     "name": "stdout",
     "output_type": "stream",
     "text": [
      "All ATA statements: 64\n"
     ]
    }
   ],
   "source": [
    "print(f'All ATA statements: {int(len(all_groundings_ata)/2)}')"
   ]
  },
  {
   "cell_type": "code",
   "execution_count": 8,
   "metadata": {},
   "outputs": [
    {
     "name": "stdout",
     "output_type": "stream",
     "text": [
      "Unique groundings in ATA models: 28\n"
     ]
    }
   ],
   "source": [
    "unique_gr_ata = set(all_groundings_ata)\n",
    "print(f'Unique groundings in ATA models: {len(unique_gr_ata)}')"
   ]
  },
  {
   "cell_type": "code",
   "execution_count": 9,
   "metadata": {},
   "outputs": [
    {
     "data": {
      "text/plain": [
       "Counter({'theme_process': 14, 'theme': 11, 'theme_property': 3})"
      ]
     },
     "execution_count": 9,
     "metadata": {},
     "output_type": "execute_result"
    }
   ],
   "source": [
    "Counter(get_grounding_configs(unique_gr_ata))"
   ]
  },
  {
   "cell_type": "code",
   "execution_count": 10,
   "metadata": {},
   "outputs": [
    {
     "name": "stdout",
     "output_type": "stream",
     "text": [
      "All terms: 28, Old terms: 21, New terms: 28, New only terms: 7, Custom terms: 0, \n"
     ]
    }
   ],
   "source": [
    "all_terms_ata = get_all_grounding_terms(unique_gr_ata)\n",
    "nterms_ata = len(all_terms_ata)\n",
    "nterms_ata_old = len(all_terms_ata & old_onto_terms)\n",
    "nterms_ata_new = len(all_terms_ata & new_onto_terms)\n",
    "nterms_ata_new_only = len((all_terms_ata & new_onto_terms) - (all_terms_ata & old_onto_terms))\n",
    "nterms_ata_custom = len((all_terms_ata - new_onto_terms) - old_onto_terms)\n",
    "print(f'All terms: {nterms_ata}, '\n",
    "      f'Old terms: {nterms_ata_old}, '\n",
    "      f'New terms: {nterms_ata_new}, '\n",
    "      f'New only terms: {nterms_ata_new_only}, '\n",
    "      f'Custom terms: {nterms_ata_custom}, ')"
   ]
  },
  {
   "cell_type": "code",
   "execution_count": 11,
   "metadata": {
    "scrolled": true
   },
   "outputs": [
    {
     "name": "stdout",
     "output_type": "stream",
     "text": [
      "wm/concept/agriculture/poultry/egg\n",
      "wm/concept/agriculture/poultry/flock_size\n",
      "wm/concept/goods/agricultural/feed\n",
      "wm/process/management\n",
      "wm/process/production\n",
      "wm/process/training/agriculture_training\n",
      "wm/property/quality\n"
     ]
    }
   ],
   "source": [
    "for term in sorted((all_terms_ata & new_onto_terms) - (all_terms_ata & old_onto_terms)):\n",
    "    print(term)"
   ]
  },
  {
   "cell_type": "code",
   "execution_count": 12,
   "metadata": {
    "scrolled": true
   },
   "outputs": [],
   "source": [
    "for term in sorted((all_terms_ata - new_onto_terms) - old_onto_terms):\n",
    "    print(term)"
   ]
  },
  {
   "cell_type": "markdown",
   "metadata": {},
   "source": [
    "# NAF"
   ]
  },
  {
   "cell_type": "code",
   "execution_count": 29,
   "metadata": {
    "scrolled": true
   },
   "outputs": [
    {
     "name": "stdout",
     "output_type": "stream",
     "text": [
      "NAF/Alex September Master CAG.json\n",
      "NAF/USAID September Master CAG.json\n",
      "NAF/DoD September Master CAG.json\n",
      "NAF/September Master CAG.json\n",
      "NAF/State September Master CAG.json\n"
     ]
    }
   ],
   "source": [
    "fnames = glob.glob('NAF/*.json')\n",
    "\n",
    "unique_stmts_naf = {}\n",
    "for fname in fnames:\n",
    "    if 'September Master' in fname:\n",
    "        print(fname)\n",
    "        with open(fname, 'r') as fh:\n",
    "            jj = json.load(fh)\n",
    "            for stmt in jj['statements']:\n",
    "                if ('theme' not in stmt['obj']) and stmt['obj']['concept'].startswith('wm/'):\n",
    "                    continue\n",
    "                if ('theme' not in stmt['subj']) and stmt['subj']['concept'].startswith('wm/'):\n",
    "                    continue\n",
    "                unique_stmts_naf[(get_grounding(stmt['obj']),\n",
    "                                  get_grounding(stmt['subj']))] = stmt\n",
    "all_groundings_naf = []\n",
    "for (sgr, ogr), stmt in unique_stmts_naf.items():\n",
    "    all_groundings_naf += [sgr, ogr]"
   ]
  },
  {
   "cell_type": "code",
   "execution_count": 30,
   "metadata": {},
   "outputs": [
    {
     "name": "stdout",
     "output_type": "stream",
     "text": [
      "All NAF statements: 174\n"
     ]
    }
   ],
   "source": [
    "print(f'All NAF statements: {len(unique_stmts_naf)}')"
   ]
  },
  {
   "cell_type": "code",
   "execution_count": 31,
   "metadata": {},
   "outputs": [
    {
     "name": "stdout",
     "output_type": "stream",
     "text": [
      "Unique groundings in NAF models: 103\n"
     ]
    }
   ],
   "source": [
    "unique_gr_naf = set(all_groundings_naf)\n",
    "print(f'Unique groundings in NAF models: {len(unique_gr_naf)}')"
   ]
  },
  {
   "cell_type": "code",
   "execution_count": 32,
   "metadata": {
    "scrolled": true
   },
   "outputs": [
    {
     "data": {
      "text/plain": [
       "Counter({'theme_process': 24, 'theme': 74, 'theme_property': 5})"
      ]
     },
     "execution_count": 32,
     "metadata": {},
     "output_type": "execute_result"
    }
   ],
   "source": [
    "Counter(get_grounding_configs(unique_gr_naf))"
   ]
  },
  {
   "cell_type": "code",
   "execution_count": 33,
   "metadata": {},
   "outputs": [
    {
     "name": "stdout",
     "output_type": "stream",
     "text": [
      "All terms: 108, Old terms: 76, New terms: 86, New only terms: 11, Custom terms: 21, \n"
     ]
    }
   ],
   "source": [
    "all_terms_naf = get_all_grounding_terms(unique_gr_naf)\n",
    "nterms_naf = len(all_terms_naf)\n",
    "nterms_naf_old = len(all_terms_naf & old_onto_terms)\n",
    "nterms_naf_new = len(all_terms_naf & new_onto_terms)\n",
    "nterms_naf_new_only = len((all_terms_naf & new_onto_terms) - (all_terms_naf & old_onto_terms))\n",
    "nterms_naf_custom = len((all_terms_naf - new_onto_terms) - old_onto_terms)\n",
    "print(f'All terms: {nterms_naf}, '\n",
    "      f'Old terms: {nterms_naf_old}, '\n",
    "      f'New terms: {nterms_naf_new}, '\n",
    "      f'New only terms: {nterms_naf_new_only}, '\n",
    "      f'Custom terms: {nterms_naf_custom}, ')"
   ]
  },
  {
   "cell_type": "code",
   "execution_count": 34,
   "metadata": {
    "scrolled": true
   },
   "outputs": [
    {
     "name": "stdout",
     "output_type": "stream",
     "text": [
      "wm/concept/entity/military_exercise\n",
      "wm/concept/entity/people/migration/refugee\n",
      "wm/process/aid_or_assistance\n",
      "wm/process/conflict/protest_or_demonstration\n",
      "wm/process/imprisonment_or_detention\n",
      "wm/process/legislation\n",
      "wm/process/mitigation\n",
      "wm/process/preparation\n",
      "wm/process/production\n",
      "wm/process/surveilance\n",
      "wm/process/voting\n"
     ]
    }
   ],
   "source": [
    "for term in sorted((all_terms_naf & new_onto_terms) - (all_terms_naf & old_onto_terms)):\n",
    "    print(term)"
   ]
  },
  {
   "cell_type": "code",
   "execution_count": 35,
   "metadata": {
    "scrolled": true
   },
   "outputs": [
    {
     "name": "stdout",
     "output_type": "stream",
     "text": [
      "American Global Perception\n",
      "Chinese Aid\n",
      "Democracy Human Rights and Governance Aid\n",
      "Environment Aid\n",
      "Ethiopian Conflict\n",
      "Ethiopian US Cooperation\n",
      "Health Aid\n",
      "Humanitarian Assistance Aid\n",
      "International American Cooperation\n",
      "Kenyan cooperation with the US\n",
      "Peace and Security Aid Ethiopia\n",
      "Peace and Security Aid Kenya\n",
      "Peace and security Aid Somalia\n",
      "Somali Conflict\n",
      "Somali US Cooperation\n",
      "Terrorist Attack\n",
      "arrests of journalists\n",
      "correction\n",
      "education and social services aid\n",
      "men_voting\n",
      "personal data insecurity\n"
     ]
    }
   ],
   "source": [
    "for term in sorted((all_terms_naf - new_onto_terms) - old_onto_terms):\n",
    "    print(term)"
   ]
  }
 ],
 "metadata": {
  "kernelspec": {
   "display_name": "Python 3",
   "language": "python",
   "name": "python3"
  },
  "language_info": {
   "codemirror_mode": {
    "name": "ipython",
    "version": 3
   },
   "file_extension": ".py",
   "mimetype": "text/x-python",
   "name": "python",
   "nbconvert_exporter": "python",
   "pygments_lexer": "ipython3",
   "version": "3.9.6"
  }
 },
 "nbformat": 4,
 "nbformat_minor": 4
}
